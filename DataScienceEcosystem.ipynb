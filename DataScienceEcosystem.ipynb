{
  "nbformat": 4,
  "nbformat_minor": 0,
  "metadata": {
    "colab": {
      "provenance": []
    },
    "kernelspec": {
      "name": "python3",
      "display_name": "Python 3"
    },
    "language_info": {
      "name": "python"
    }
  },
  "cells": [
    {
      "cell_type": "markdown",
      "source": [
        "# Data Science Tools and Ecosystem"
      ],
      "metadata": {
        "id": "Kib-S5xDYOYu"
      }
    },
    {
      "cell_type": "markdown",
      "source": [
        "#### **Saiabhinav** **Chekka** - Masters in Data Science student"
      ],
      "metadata": {
        "id": "mQ73KePtuCfV"
      }
    },
    {
      "cell_type": "markdown",
      "source": [
        "#### **In this notebook, Data Science Tools and Ecosystem are summarized.**"
      ],
      "metadata": {
        "id": "UsEG0Dy8unpu"
      }
    },
    {
      "cell_type": "markdown",
      "source": [
        "**Objectives:**\n",
        "\n",
        "- List popular languages for Data Science.\n",
        "- Explore common data science libraries.\n",
        "- Introduce arithmetic expressions and their examples.\n",
        "- Demonstrate multiplication and addition of numbers.\n",
        "- Convert minutes to hours using Python code."
      ],
      "metadata": {
        "id": "9C_My3Aww50o"
      }
    },
    {
      "cell_type": "markdown",
      "source": [
        "### **Some of the popular languages that Data Scientists use are:**\n",
        "\n",
        "1. Python\n",
        "2. R\n",
        "3. SQL\n",
        "4. Julia\n",
        "5. Scala\n",
        "6. MATLAB"
      ],
      "metadata": {
        "id": "jGAzsn6Bu5Gm"
      }
    },
    {
      "cell_type": "markdown",
      "source": [
        "### **Some of the commonly used libraries used by Data Scientists include:**\n",
        "\n",
        "1. NumPy\n",
        "2. Pandas\n",
        "3. Scikit-learn\n",
        "4. TensorFlow\n",
        "5. PyTorch\n",
        "6. Matplotlib\n",
        "7. Seaborn\n",
        "8. Statsmodels"
      ],
      "metadata": {
        "id": "-Hc7jcHzvTzk"
      }
    },
    {
      "cell_type": "markdown",
      "source": [
        "### Data Science Tools\n",
        "\n",
        "| Data Science Tools              | Description                                                    |\n",
        "|---------------------|----------------------------------------------------------------|\n",
        "| Python              | General-purpose programming language with rich data libraries. |\n",
        "| R                   | Statistical programming language with extensive packages.      |\n",
        "| SQL                 | Query language for relational databases.                       |\n",
        "| Jupyter Notebook    | Interactive development environment for data analysis.         |\n",
        "| Apache Spark        | Distributed computing framework for big data processing.       |\n",
        "| Tableau             | Data visualization and business intelligence tool.             |\n",
        "| MATLAB              | Numerical computing and visualization software.                |\n",
        "| Power BI            | Business analytics and visualization tool by Microsoft.        |\n",
        "| Git                 | Version control system for managing code and collaboration.    |\n",
        "| Docker              | Platform for containerizing and deploying applications.        |\n"
      ],
      "metadata": {
        "id": "4EIf_t-kwCHf"
      }
    },
    {
      "cell_type": "markdown",
      "source": [
        "## Arithmetic Expression Examples\n",
        "\n",
        "### Below are a few examples of evaluating arithmetic expressions in Python\n",
        "\n",
        "Arithmetic expressions play a fundamental role in mathematics and programming. They involve operations such as addition, subtraction, multiplication, and division, allowing us to perform mathematical calculations. Here are some examples of arithmetic expressions:\n",
        "\n",
        "1. **Addition**: The sum of two numbers can be represented using the addition operator (+). For example, `2 + 3` equals `5`.\n",
        "\n",
        "2. **Subtraction**: The difference between two numbers can be calculated using the subtraction operator (-). For instance, `10 - 5` results in `5`.\n",
        "\n",
        "3. **Multiplication**: The product of two numbers is obtained using the multiplication operator (*). For instance, `4 * 3` yields `12`.\n",
        "\n",
        "4. **Division**: The quotient of two numbers can be calculated using the division operator (/). For example, `15 / 3` equals `5`.\n",
        "\n",
        "5. **Modulo**: The modulo operator (%) returns the remainder of the division of two numbers. For example, `10 % 3` yields `1`.\n"
      ],
      "metadata": {
        "id": "vWMcY9PNwSBO"
      }
    },
    {
      "cell_type": "code",
      "source": [
        "# This is a simple arithmetic expression to multiply then add integers.\n",
        "result = (3 * 4) + 5\n",
        "print(\"The result of the expression (3*4)+5 is:\", result)"
      ],
      "metadata": {
        "colab": {
          "base_uri": "https://localhost:8080/"
        },
        "id": "A9-6yVkZX1R4",
        "outputId": "5e920a04-8897-4aac-8e11-be297f1960bd"
      },
      "execution_count": 3,
      "outputs": [
        {
          "output_type": "stream",
          "name": "stdout",
          "text": [
            "The result of the expression (3*4)+5 is: 17\n"
          ]
        }
      ]
    },
    {
      "cell_type": "code",
      "source": [
        "# This will convert 200 minutes to hours by dividing by 60.\n",
        "minutes = 200\n",
        "hours = minutes / 60\n",
        "print(\"200 minutes is equal to\", hours, \"hours\")"
      ],
      "metadata": {
        "colab": {
          "base_uri": "https://localhost:8080/"
        },
        "id": "Tju2U-8rX1Ph",
        "outputId": "de68c47a-9cef-46be-a8e0-c15fca7f3840"
      },
      "execution_count": 4,
      "outputs": [
        {
          "output_type": "stream",
          "name": "stdout",
          "text": [
            "200 minutes is equal to 3.3333333333333335 hours\n"
          ]
        }
      ]
    },
    {
      "cell_type": "markdown",
      "source": [
        "## Author\n",
        "\n",
        "Saiabhinav Chekka\n"
      ],
      "metadata": {
        "id": "iMjQT1tXxFms"
      }
    },
    {
      "cell_type": "code",
      "source": [],
      "metadata": {
        "id": "eEUGWPurX1NA"
      },
      "execution_count": null,
      "outputs": []
    },
    {
      "cell_type": "code",
      "source": [],
      "metadata": {
        "id": "UW7pxBWCX1Kr"
      },
      "execution_count": null,
      "outputs": []
    }
  ]
}